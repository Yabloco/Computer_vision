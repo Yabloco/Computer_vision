{
 "cells": [
  {
   "cell_type": "code",
   "execution_count": 1,
   "id": "4b0e4624-e023-4572-a1be-2d570a22388d",
   "metadata": {
    "scrolled": true
   },
   "outputs": [],
   "source": [
    "#raw_data = input().split(\" \")"
   ]
  },
  {
   "cell_type": "code",
   "execution_count": 2,
   "id": "6bef400a-4dde-4c0b-b302-b83714d61651",
   "metadata": {},
   "outputs": [],
   "source": [
    "import pandas as pd\n",
    "df = pd.read_csv(\"RTL.csv\", encoding='ISO-8859-1')"
   ]
  },
  {
   "cell_type": "code",
   "execution_count": null,
   "id": "726b673e-5de5-4834-9547-33a2beea05d7",
   "metadata": {},
   "outputs": [],
   "source": []
  },
  {
   "cell_type": "code",
   "execution_count": 3,
   "id": "9bb1b700-7a02-4c5b-b32b-6904a61087cc",
   "metadata": {},
   "outputs": [],
   "source": [
    "import numpy as np"
   ]
  },
  {
   "cell_type": "code",
   "execution_count": 4,
   "id": "e558011b-d428-441f-b8e3-f55d4eba76c6",
   "metadata": {},
   "outputs": [],
   "source": [
    "def transform_and_delete_missvalues(raw_data):\n",
    "    \"\"\"\n",
    "    преобразует входные данные вида \"а,б,в В,Г,Д\"\n",
    "    в масиив вида [[], [], []]\n",
    "    удаляет те эллементы в которых содержаться неопределенные значения\n",
    "    \"\"\"\n",
    "    splited_data = []\n",
    "    for i in range(len(raw_data)):\n",
    "        splited_data.append(raw_data[i].split('\\n'))\n",
    "    \n",
    "    bad_frames = []\n",
    "    for i in range(len(raw_data)):\n",
    "        if '?' in raw_data[i]:\n",
    "            bad_frames.append(i)\n",
    "    bad_frames.reverse()\n",
    "    for i in bad_frames:\n",
    "        del splited_data[i]\n",
    "    return splited_data"
   ]
  },
  {
   "cell_type": "code",
   "execution_count": 5,
   "id": "679ff518-d17c-42dd-a767-9928f5367368",
   "metadata": {},
   "outputs": [],
   "source": [
    "def one_fitch_binary_encoder(data, fitch_to_encode):\n",
    "    \"\"\"\n",
    "    бинарный энкодер преобразующий конкретный категориальный признак\n",
    "    выбираемый по индексу fitch_to_encode в набор новых численных признаков\n",
    "    \"\"\"\n",
    "    encoded_data = []\n",
    "    variants = set()\n",
    "    for frame in data:\n",
    "        try:\n",
    "            variants.add(frame[fitch_to_encode])\n",
    "        except:\n",
    "            print(frame)\n",
    "    variants = list(variants)\n",
    "    power = np.ceil(np.log2(len(variants)))\n",
    "    \n",
    "    for frame in data:\n",
    "        transformed_frame = frame\n",
    "        binary_val = variants.index(transformed_frame[fitch_to_encode])\n",
    "        del transformed_frame[fitch_to_encode]\n",
    "        counter_power = power\n",
    "        \n",
    "        while counter_power:\n",
    "            \n",
    "            transformed_frame.append(1 if binary_val // 2**(counter_power-1) else -1)\n",
    "            if transformed_frame[-1] > 0:\n",
    "                binary_val -= 2**(counter_power-1)\n",
    "            counter_power -= 1\n",
    "        encoded_data.append(transformed_frame)\n",
    "        \n",
    "    return encoded_data"
   ]
  },
  {
   "cell_type": "code",
   "execution_count": 6,
   "id": "93af6d4f-f807-45f4-afe8-b2f7c34a2d45",
   "metadata": {},
   "outputs": [],
   "source": [
    "def binary_encoder (data, positions_to_encode):\n",
    "    \"\"\"\n",
    "    энкодер преобразующий все указанные категориальные признаки\n",
    "    \"\"\"\n",
    "    encoded_data = data\n",
    "    positions_to_encode.reverse()\n",
    "    for i in positions_to_encode:\n",
    "        encoded_data = one_fitch_binary_encoder(encoded_data, i)\n",
    "    return encoded_data"
   ]
  },
  {
   "cell_type": "code",
   "execution_count": null,
   "id": "aaed44a0-7625-40d7-8e6b-ed1a011b736c",
   "metadata": {},
   "outputs": [],
   "source": []
  },
  {
   "cell_type": "code",
   "execution_count": 7,
   "id": "c58a5959-9d25-42ee-9a3d-6fb6d3837385",
   "metadata": {},
   "outputs": [],
   "source": [
    "def normalisation(data, fsize = 0):\n",
    "    \"\"\"\n",
    "    нормализвция признаков\n",
    "    \"\"\"\n",
    "    normalised_data = []\n",
    "    if not fsize:\n",
    "        fsize = len(data[0])\n",
    "    max_absts = [-np.inf] * fsize\n",
    "    for frame in data:\n",
    "        for i in range(fsize):\n",
    "            if np.abs(frame[i]) > max_absts[i]:\n",
    "                max_absts[i] = np.abs(frame[i])\n",
    "    for frame in data:\n",
    "        for i in range(fsize):\n",
    "            frame[i] /= max_absts[i]\n",
    "        normalised_data.append(frame)\n",
    "    return normalised_data"
   ]
  },
  {
   "cell_type": "code",
   "execution_count": 8,
   "id": "c92cbd08-e356-4262-a3b5-053a5ef57ddd",
   "metadata": {},
   "outputs": [],
   "source": [
    "def avgs(data):\n",
    "    \"\"\"\n",
    "    среднее арифметическое по признакам\n",
    "    \"\"\"\n",
    "    centrated_data = []\n",
    "\n",
    "    fsize = len(data[0])\n",
    "    avgs = [0] * fsize\n",
    "    \n",
    "    for frame in data:\n",
    "        for i in range(fsize):\n",
    "            avgs[i] += frame[i] / len(data)\n",
    "              \n",
    "    return avgs"
   ]
  },
  {
   "cell_type": "code",
   "execution_count": 9,
   "id": "8734d044-b328-4d26-b597-678c3034b608",
   "metadata": {},
   "outputs": [],
   "source": [
    "def centrate(data, bayes):\n",
    "    \"\"\"\n",
    "    центрирование признаков\n",
    "    \"\"\"\n",
    "    centrated = []\n",
    "    for frame in data:\n",
    "        bayesed = []\n",
    "        for i in range(len(frame)):\n",
    "            bayesed.append(frame[i] - bayes[i])\n",
    "        centrated.append(bayesed)\n",
    "    return centrated\n",
    "        "
   ]
  },
  {
   "cell_type": "code",
   "execution_count": 10,
   "id": "9c56f2c0-08d0-49f5-817d-7267d7f41e5e",
   "metadata": {},
   "outputs": [],
   "source": [
    "splited_data = list(np.array(df))"
   ]
  },
  {
   "cell_type": "code",
   "execution_count": 12,
   "id": "f7a115fb-b4b4-4afd-83a4-d377e019500f",
   "metadata": {},
   "outputs": [],
   "source": [
    "for i in range(len(splited_data)):\n",
    "    splited_data[i] = list(splited_data[i])"
   ]
  },
  {
   "cell_type": "code",
   "execution_count": 13,
   "id": "98b295a1-bfb4-4683-abef-5a84de97316a",
   "metadata": {},
   "outputs": [
    {
     "name": "stdout",
     "output_type": "stream",
     "text": [
      "544 \n",
      "\n",
      "['536365', '85123A', 'WHITE HANGING HEART T-LIGHT HOLDER', 6.0, '12/1/10 8:26', 2.55, 17850.0, 'United Kingdom']\n"
     ]
    }
   ],
   "source": [
    "#splited_data = transform_and_delete_missvalues(raw_data)\n",
    "print(len(splited_data),'\\n')\n",
    "print(splited_data[0])"
   ]
  },
  {
   "cell_type": "code",
   "execution_count": 14,
   "id": "e7216658-fba8-489c-b99c-6000daadabf8",
   "metadata": {},
   "outputs": [],
   "source": [
    "categorial_fitches = [1,2,4,7]\n",
    "encoded_data = binary_encoder(splited_data, categorial_fitches)\n"
   ]
  },
  {
   "cell_type": "code",
   "execution_count": 15,
   "id": "4bc40687-c687-4021-bf15-ffc19c7ce267",
   "metadata": {},
   "outputs": [
    {
     "name": "stdout",
     "output_type": "stream",
     "text": [
      "['536367', 6.0, 2.1, 13047.0, -1, -1, 1, -1, -1, -1, 1, 1, -1, 1, -1, -1, 1, 1, 1, 1, -1, 1, 1, -1, -1, -1, 1, 1, 1, -1, -1]\n"
     ]
    }
   ],
   "source": [
    "print(encoded_data[10])"
   ]
  },
  {
   "cell_type": "code",
   "execution_count": 16,
   "id": "adf6bb8c-8656-4405-945e-4f91fb3d031e",
   "metadata": {},
   "outputs": [],
   "source": [
    "ban = []\n",
    "for i in range(len(encoded_data)):\n",
    "    try:\n",
    "        encoded_data[i] = list(map(float, encoded_data[i]))\n",
    "    except:\n",
    "        ban.append(i)\n",
    "        pass\n",
    "for i in reversed(ban):\n",
    "    del encoded_data[i]"
   ]
  },
  {
   "cell_type": "code",
   "execution_count": 17,
   "id": "1f839f13-1227-42cf-acaa-34ca22cc9b98",
   "metadata": {},
   "outputs": [
    {
     "name": "stdout",
     "output_type": "stream",
     "text": [
      "[536412.0, 1.0, 2.95, 17920.0, -1.0, -1.0, 1.0, 1.0, -1.0, 1.0, -1.0, -1.0, -1.0, 1.0, -1.0, -1.0, 1.0, 1.0, -1.0, -1.0, 1.0, 1.0, -1.0, 1.0, -1.0, -1.0, 1.0, 1.0, 1.0, -1.0, 1.0]\n"
     ]
    }
   ],
   "source": [
    "print(encoded_data[-1])"
   ]
  },
  {
   "cell_type": "code",
   "execution_count": 18,
   "id": "260f5a23-c973-499e-8a13-3bbb42ed705a",
   "metadata": {},
   "outputs": [],
   "source": [
    "bayes = avgs(encoded_data)\n",
    "centrated_data = centrate(encoded_data, bayes)"
   ]
  },
  {
   "cell_type": "code",
   "execution_count": 19,
   "id": "5ec0146c-6d3b-4a48-9501-fbc1624ffa50",
   "metadata": {},
   "outputs": [
    {
     "name": "stdout",
     "output_type": "stream",
     "text": [
      "[np.float64(0.6940086554893518), np.float64(-0.035982935276715325), np.float64(-0.0033573162101417195), np.float64(0.6125840152481), np.float64(-0.02697495183043686), np.float64(-0.03898635477582235), np.float64(0.07243460764586972), np.float64(1.0), np.float64(-0.5816023738872408), np.float64(1.0), np.float64(-1.0), np.float64(-1.0), np.float64(-1.0), np.float64(1.0), np.float64(-0.5539358600583094), np.float64(-0.8379310344827586), np.float64(1.0), np.float64(0.9452554744525549), np.float64(-1.0), np.float64(-0.9667896678966789), np.float64(1.0), np.float64(1.0), np.float64(-0.402631578947369), np.float64(1.0), np.float64(-0.8067796610169493), np.float64(-0.9172661870503597), np.float64(1.0), np.float64(1.0), np.float64(1.0), np.float64(-1.0), np.float64(1.0)]\n"
     ]
    }
   ],
   "source": [
    "normalised_data = normalisation(centrated_data, fsize=0)\n",
    "print(normalised_data[-1])"
   ]
  },
  {
   "cell_type": "code",
   "execution_count": 20,
   "id": "f1971d28-ac39-4057-ad49-ea43bb0d9134",
   "metadata": {},
   "outputs": [],
   "source": [
    "matrix = np.array(normalised_data)"
   ]
  },
  {
   "cell_type": "code",
   "execution_count": 21,
   "id": "18d9165c-8d99-4902-b324-036e4db4003e",
   "metadata": {},
   "outputs": [
    {
     "data": {
      "text/plain": [
       "array([[-1.00000000e+00, -2.39645718e-02, -5.83397728e-03, ...,\n",
       "         1.00000000e+00,  9.24187726e-01, -9.17266187e-01],\n",
       "       [-1.00000000e+00, -2.39645718e-02, -6.32989033e-04, ...,\n",
       "        -9.88805970e-01, -1.00000000e+00, -9.17266187e-01],\n",
       "       [-1.00000000e+00, -1.91572264e-02, -4.59564675e-03, ...,\n",
       "        -9.88805970e-01, -1.00000000e+00, -9.17266187e-01],\n",
       "       ...,\n",
       "       [ 6.94008655e-01, -3.11755899e-02, -1.14064647e-02, ...,\n",
       "         1.00000000e+00,  9.24187726e-01,  1.00000000e+00],\n",
       "       [ 6.94008655e-01, -3.11755899e-02, -1.14064647e-02, ...,\n",
       "        -9.88805970e-01, -1.00000000e+00, -9.17266187e-01],\n",
       "       [ 6.94008655e-01, -3.59829353e-02, -3.35731621e-03, ...,\n",
       "         1.00000000e+00, -1.00000000e+00,  1.00000000e+00]],\n",
       "      shape=(533, 31))"
      ]
     },
     "execution_count": 21,
     "metadata": {},
     "output_type": "execute_result"
    }
   ],
   "source": [
    "matrix"
   ]
  },
  {
   "cell_type": "code",
   "execution_count": 22,
   "id": "b34f99e6-fb53-4dd0-8825-56601adbb3ca",
   "metadata": {},
   "outputs": [],
   "source": [
    "U, s, vt = np.linalg.svd(matrix)"
   ]
  },
  {
   "cell_type": "code",
   "execution_count": 23,
   "id": "d4ec06a5-7d27-42a5-9f68-30a3bbd7cc5e",
   "metadata": {},
   "outputs": [
    {
     "data": {
      "text/plain": [
       "[<matplotlib.lines.Line2D at 0x239161d9450>]"
      ]
     },
     "execution_count": 23,
     "metadata": {},
     "output_type": "execute_result"
    },
    {
     "data": {
      "image/png": "[encoded data removed]",
      "text/plain": [
       "<Figure size 640x480 with 1 Axes>"
      ]
     },
     "metadata": {},
     "output_type": "display_data"
    }
   ],
   "source": [
    "import matplotlib.pyplot as plt\n",
    "plt.plot(range(len(s)), s)"
   ]
  },
  {
   "cell_type": "code",
   "execution_count": null,
   "id": "6acfc422-a81b-45a8-a7a5-65a0052644f4",
   "metadata": {},
   "outputs": [],
   "source": []
  },
  {
   "cell_type": "code",
   "execution_count": null,
   "id": "c4a90fac-e460-4a67-bcbb-b9be0506f315",
   "metadata": {},
   "outputs": [],
   "source": []
  }
 ],
 "metadata": {
  "kernelspec": {
   "display_name": "Python 3 (ipykernel)",
   "language": "python",
   "name": "python3"
  },
  "language_info": {
   "codemirror_mode": {
    "name": "ipython",
    "version": 3
   },
   "file_extension": ".py",
   "mimetype": "text/x-python",
   "name": "python",
   "nbconvert_exporter": "python",
   "pygments_lexer": "ipython3",
   "version": "3.13.2"
  }
 },
 "nbformat": 4,
 "nbformat_minor": 5
}
